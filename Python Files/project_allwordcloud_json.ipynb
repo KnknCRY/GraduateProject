{
 "cells": [
  {
   "cell_type": "code",
   "execution_count": 18,
   "metadata": {},
   "outputs": [
    {
     "name": "stdout",
     "output_type": "stream",
     "text": [
      "1484\n"
     ]
    }
   ],
   "source": [
    "from os import listdir\n",
    "from os.path import isfile, isdir, join\n",
    "import json\n",
    "\n",
    "# 指定要列出所有檔案的目錄\n",
    "mypath = \"speech_voice_wordcloud_json\" #所有音檔都在這\n",
    "# 取得所有檔案與子目錄名稱\n",
    "files = listdir(mypath)\n",
    "\n",
    "result_dic = {}\n",
    "\n",
    "for fname in files:\n",
    "    with open(mypath+\"\\\\\"+fname , 'r',encoding=\"utf-8\") as reader:\n",
    "        jf = json.loads(reader.read())\n",
    "    #print(jf)\n",
    "    for x in jf.keys():\n",
    "        if x not in result_dic.keys():\n",
    "            result_dic.update({x:jf[x]})\n",
    "        else:\n",
    "            result_dic[x][\"times\"] += 1\n",
    "            \n",
    "print(len(result_dic))\n",
    "with open('speech_voice_allwordcloud_json'+'\\\\'+'allwordcloud.json', \"w\",encoding='utf-8') as f:\n",
    "    json.dump(result_dic,f,ensure_ascii=False,sort_keys=True, indent=4)"
   ]
  },
  {
   "cell_type": "code",
   "execution_count": null,
   "metadata": {
    "collapsed": true
   },
   "outputs": [],
   "source": []
  }
 ],
 "metadata": {
  "kernelspec": {
   "display_name": "Python 3",
   "language": "python",
   "name": "python3"
  },
  "language_info": {
   "codemirror_mode": {
    "name": "ipython",
    "version": 3
   },
   "file_extension": ".py",
   "mimetype": "text/x-python",
   "name": "python",
   "nbconvert_exporter": "python",
   "pygments_lexer": "ipython3",
   "version": "3.6.3"
  }
 },
 "nbformat": 4,
 "nbformat_minor": 2
}
