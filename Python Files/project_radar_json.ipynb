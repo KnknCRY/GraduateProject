{
 "cells": [
  {
   "cell_type": "code",
   "execution_count": 26,
   "metadata": {},
   "outputs": [],
   "source": [
    "from os import listdir\n",
    "from os.path import isfile, isdir, join\n",
    "import json\n",
    "\n",
    "# 指定要列出所有檔案的目錄\n",
    "mypath = \"speech_voice_radar\" #所有醫療關鍵字都在這\n",
    "# 取得所有檔案與子目錄名稱\n",
    "files = listdir(mypath)\n",
    "\n",
    "for fname in files:\n",
    "    result_dic = {\"data\":[]}\n",
    "    a = 0\n",
    "    b = 0\n",
    "    c = 0\n",
    "    d = 0\n",
    "    e = 0\n",
    "    f = 0\n",
    "    fp = open(mypath+\"\\\\\"+fname, \"r\")\n",
    "    line = fp.readline()\n",
    "    while line:\n",
    "        line = line.strip('\\n')\n",
    "        emo = line.split(\":\")[3]\n",
    "        #print(emo,len(emo))\n",
    "        if emo==\" sad\":\n",
    "            a += 1\n",
    "        elif emo==\" neutral\":\n",
    "            b += 1\n",
    "        elif emo==\" calm\":\n",
    "            c += 1\n",
    "        elif emo==\" fearful\":\n",
    "            d += 1\n",
    "        elif emo==\" happy\":\n",
    "            e += 1\n",
    "        else:#disgust\n",
    "            f += 1\n",
    "        line = fp.readline()\n",
    "    result_dic[\"data\"] = [a,b,c,d,e,f]\n",
    "    with open('speech_voice_radar_json'+'\\\\'+fname[:-5]+'_radar.json', \"w\",encoding='utf-8') as F:\n",
    "        json.dump(result_dic,F,ensure_ascii=False,sort_keys=True, indent=4)\n",
    "    fp.close()"
   ]
  },
  {
   "cell_type": "code",
   "execution_count": null,
   "metadata": {
    "collapsed": true
   },
   "outputs": [],
   "source": []
  }
 ],
 "metadata": {
  "kernelspec": {
   "display_name": "Python 3",
   "language": "python",
   "name": "python3"
  },
  "language_info": {
   "codemirror_mode": {
    "name": "ipython",
    "version": 3
   },
   "file_extension": ".py",
   "mimetype": "text/x-python",
   "name": "python",
   "nbconvert_exporter": "python",
   "pygments_lexer": "ipython3",
   "version": "3.6.3"
  }
 },
 "nbformat": 4,
 "nbformat_minor": 2
}
