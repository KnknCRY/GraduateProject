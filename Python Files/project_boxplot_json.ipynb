{
 "cells": [
  {
   "cell_type": "code",
   "execution_count": 11,
   "metadata": {},
   "outputs": [
    {
     "name": "stdout",
     "output_type": "stream",
     "text": [
      "17801112191240\n",
      "Room_0601553551230-1549281972622-17801112191240-.mp3\n",
      "Room_1441294301270-1548763408429-17801112191240-.mp3\n",
      "Room_2283455301270-1548763964913-0aacaf1cbcc9462f938677747a00714c-.mp3\n",
      "Room_4553444981220-1549622958893-fd0d6b65276e4685911988ed5ac83935-.mp3\n",
      "Room_5732276261220-1549355140543-299fb67de7e54e22b6aabe2aa9c4cc03-.mp3\n",
      "Room_8567569881220-1549618084762-4013a7c92df54d2eba415e5c53e15505-.mp3\n",
      "Room_86548202112110-1548848711380-17801112191240-.mp3\n",
      "Room_87395691112250-1548848297346-17801112191240-.mp3\n",
      "Room_9440395301270-1548764356644-fd0d6b65276e4685911988ed5ac83935-.mp3\n",
      "[130, 145, 150, 172, 213, 262, 287, 297, 298]\n",
      "73140858551180\n",
      "Room_03154134902250-1548671636599-73140858551180-.mp3\n",
      "Room_26151354902300-1548673791668-33fce5e9170e4d339468c4c35c27687e-.mp3\n",
      "Room_27309534902300-1548672066972-f1ce84be5e8f41e7a43d9bd052070d43-.mp3\n",
      "Room_37820803012300-1548759299942-73140858551180-.mp3\n",
      "Room_39611213012250-1548759675111-73140858551180-.mp3\n",
      "Room_65020644902300-1548673108236-243c26d04c114bbf83c4755401bff1ae-.mp3\n",
      "Room_66895713012250-1548760246819-73140858551180-.mp3\n",
      "Room_80683267491190-1547204750365-b5b2908fb78e4bdb9b6db24692e82d7b-.mp3\n",
      "[159, 171, 199, 271, 276, 279, 284, 292]\n",
      "97409473651160\n",
      "Room_1013811080330-1558529608906-97409473651160-.mp3\n",
      "Room_22887016602300-1548389580107-97409473651160-.mp3\n",
      "Room_3826312080330-1558530561994-4013a7c92df54d2eba415e5c53e15505-.mp3\n",
      "Room_39798133062160-1553761627801-bfd92de84d074ed2913d7b51a51104bc-.mp3\n",
      "Room_4388562660280-1548391160713-597a40bdf4be4e14af4e672baaf4baa7-.mp3\n",
      "Room_7057480080330-1558529294987-97409473651160-.mp3\n",
      "Room_7396095680330-1558594356019-187649dfea1f47149e9c6fd5950e20b9-.mp3\n",
      "Room_8406581660280-1548390365367-97409473651160-.mp3\n",
      "Room_96208030162160-1553831524508-187649dfea1f47149e9c6fd5950e20b9-.mp3\n",
      "[43, 90, 177, 216, 272, 275, 297, 298, 298]\n"
     ]
    }
   ],
   "source": [
    "from os import listdir\n",
    "from os.path import isfile, isdir, join\n",
    "import json\n",
    "from pydub import AudioSegment\n",
    "import numpy as np\n",
    "\n",
    "# 指定要列出所有檔案的目錄\n",
    "mypath = \"speech_voice\"\n",
    "# 取得所有檔案與子目錄名稱\n",
    "dirs = listdir(mypath)\n",
    "\n",
    "count_experts = 0 #針對boxplot的index需要\n",
    "\n",
    "for dirname in dirs:\n",
    "    fname = listdir(mypath+\"\\\\\"+dirname) #fname就是這個專家資料夾裡面所有的音檔名稱的list\n",
    "    \n",
    "    result_dic = {}\n",
    "    result_dic[\"x\"] = count_experts\n",
    "    call_duration = [] #這個專家的各個音檔的通話時長\n",
    "    filenames = []\n",
    "    \n",
    "    print(dirname)\n",
    "    for soundfile in fname: #soundfile就是在某專家資料夾裡面的某個mp3檔名\n",
    "        print(soundfile)\n",
    "        sound = AudioSegment.from_file(mypath+\"\\\\\"+dirname+\"\\\\\"+soundfile,'mp3')\n",
    "        call_duration.append(int(len(sound)/1000))\n",
    "        filenames.append(soundfile[:-5])\n",
    "    \n",
    "    call_duration.sort()\n",
    "    print(call_duration)\n",
    "    a=np.array((call_duration))\n",
    "    #lHalf, rHalf, q2 = median(call_duration)\n",
    "    result_dic[\"low\"] = min(call_duration)\n",
    "    result_dic[\"q1\"] = np.percentile(a,25)\n",
    "    result_dic[\"median\"] = np.median(a)\n",
    "    result_dic[\"q3\"] = np.percentile(a,75)\n",
    "    result_dic[\"high\"] = max(call_duration)\n",
    "    result_dic[\"datas\"] = []\n",
    "    result_dic[\"filename\"] = []\n",
    "    \n",
    "    for x in range(len(call_duration)):\n",
    "        result_dic[\"data\"].append([count_experts, call_duration[x]])\n",
    "    for x in range(len(filenames)):\n",
    "        result_dic[\"filename\"].append(\"./data/info/\"+filenames[x]+\"_info.json\")\n",
    "        \n",
    "    #print(result_dic)\n",
    "    with open('speech_voice_boxplot_json'+'\\\\'+str(count_experts)+'_boxplot.json', \"w\",encoding='utf-8') as f:\n",
    "        json.dump(result_dic,f,ensure_ascii=False,sort_keys=True, indent=4)\n",
    "    count_experts += 1"
   ]
  },
  {
   "cell_type": "code",
   "execution_count": null,
   "metadata": {
    "collapsed": true
   },
   "outputs": [],
   "source": []
  }
 ],
 "metadata": {
  "kernelspec": {
   "display_name": "Python 3",
   "language": "python",
   "name": "python3"
  },
  "language_info": {
   "codemirror_mode": {
    "name": "ipython",
    "version": 3
   },
   "file_extension": ".py",
   "mimetype": "text/x-python",
   "name": "python",
   "nbconvert_exporter": "python",
   "pygments_lexer": "ipython3",
   "version": "3.6.3"
  }
 },
 "nbformat": 4,
 "nbformat_minor": 2
}
